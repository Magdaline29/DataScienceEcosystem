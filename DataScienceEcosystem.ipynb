{
 "cells": [
  {
   "cell_type": "markdown",
   "id": "82c99fcd",
   "metadata": {},
   "source": [
    "# H1: Data science tools and Ecosystem"
   ]
  },
  {
   "cell_type": "markdown",
   "id": "84c15915",
   "metadata": {},
   "source": [
    "In this notebook, Data Science Tools and Ecosystem are summariezd."
   ]
  },
  {
   "cell_type": "markdown",
   "id": "394fb7e3",
   "metadata": {},
   "source": [
    "**Objectives:**"
   ]
  },
  {
   "cell_type": "markdown",
   "id": "0462c122",
   "metadata": {},
   "source": [
    "- List popular languages for data science\n",
    "- List commonly used libraries by data scientists\n",
    "- Evaluate arithmetic expression in python"
   ]
  },
  {
   "cell_type": "markdown",
   "id": "a4d21fac",
   "metadata": {},
   "source": [
    "Some of the popular languages that Data scientist use are:\n",
    "1. R\n",
    "2. Python\n",
    "3. SQL"
   ]
  },
  {
   "cell_type": "markdown",
   "id": "ded28119",
   "metadata": {},
   "source": [
    "Some of the common used libraries used by Data Scientist include:\n",
    "1. Scientific Computing Libraries e.g pandas\n",
    "2. Data Visualization Libraries e.g matplotlib\n",
    "3. Machine Learning Libraries e.g Scikit-learn library"
   ]
  },
  {
   "cell_type": "markdown",
   "id": "a7ceb0c8",
   "metadata": {},
   "source": [
    "|Data Science Tools|\n",
    "------------------------------\n",
    "|RStudio|\n",
    "|Apache Spark|\n",
    "TensorFlow|"
   ]
  },
  {
   "cell_type": "markdown",
   "id": "8a7cce3b",
   "metadata": {},
   "source": [
    "### H3: Below are a few examples of evaluating arithmetic expresions in python"
   ]
  },
  {
   "cell_type": "code",
   "execution_count": 2,
   "id": "90ccda74",
   "metadata": {
    "collapsed": true
   },
   "outputs": [
    {
     "ename": "SyntaxError",
     "evalue": "invalid syntax (2944298875.py, line 1)",
     "output_type": "error",
     "traceback": [
      "\u001b[1;36m  Cell \u001b[1;32mIn[2], line 1\u001b[1;36m\u001b[0m\n\u001b[1;33m    This a simple arithmetic expression multiply the add integers\u001b[0m\n\u001b[1;37m         ^\u001b[0m\n\u001b[1;31mSyntaxError\u001b[0m\u001b[1;31m:\u001b[0m invalid syntax\n"
     ]
    }
   ],
   "source": [
    "This a simple arithmetic expression multiply the add integers"
   ]
  },
  {
   "cell_type": "code",
   "execution_count": 3,
   "id": "5212fc14",
   "metadata": {},
   "outputs": [
    {
     "data": {
      "text/plain": [
       "17"
      ]
     },
     "execution_count": 3,
     "metadata": {},
     "output_type": "execute_result"
    }
   ],
   "source": [
    "(3*4)+5"
   ]
  },
  {
   "cell_type": "markdown",
   "id": "b0232571",
   "metadata": {},
   "source": [
    "This will convert 200 minutes to hours by dividing by 60"
   ]
  },
  {
   "cell_type": "code",
   "execution_count": 4,
   "id": "e27ad816",
   "metadata": {},
   "outputs": [
    {
     "data": {
      "text/plain": [
       "3.3333333333333335"
      ]
     },
     "execution_count": 4,
     "metadata": {},
     "output_type": "execute_result"
    }
   ],
   "source": [
    "(200/60)"
   ]
  },
  {
   "cell_type": "markdown",
   "id": "2527d776",
   "metadata": {},
   "source": [
    "## H2: Author\n",
    "Nancy Magdaline Achieng"
   ]
  },
  {
   "cell_type": "code",
   "execution_count": null,
   "id": "7d28ed0c",
   "metadata": {},
   "outputs": [],
   "source": []
  }
 ],
 "metadata": {
  "kernelspec": {
   "display_name": "Python 3 (ipykernel)",
   "language": "python",
   "name": "python3"
  },
  "language_info": {
   "codemirror_mode": {
    "name": "ipython",
    "version": 3
   },
   "file_extension": ".py",
   "mimetype": "text/x-python",
   "name": "python",
   "nbconvert_exporter": "python",
   "pygments_lexer": "ipython3",
   "version": "3.11.5"
  }
 },
 "nbformat": 4,
 "nbformat_minor": 5
}
